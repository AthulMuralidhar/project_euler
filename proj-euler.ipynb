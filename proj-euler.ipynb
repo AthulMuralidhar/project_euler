{
 "cells": [
  {
   "cell_type": "code",
   "execution_count": 1,
   "metadata": {},
   "outputs": [
    {
     "name": "stdout",
     "output_type": "stream",
     "text": [
      "4613732\n"
     ]
    }
   ],
   "source": [
    "a = 2\n",
    "b = 3\n",
    "sum_febo = 0\n",
    "for i in range(1000):\n",
    "    if a>=4000000:\n",
    "        break\n",
    "    if a<b and a<4000000: #safety check not needed in practice\n",
    "        c = a\n",
    "        a = b\n",
    "        b = c + b\n",
    "        #print(\"c val \",c)\n",
    "    if c%2==0:\n",
    "        sum_febo = sum_febo + c\n",
    "print(sum_febo)"
   ]
  },
  {
   "cell_type": "code",
   "execution_count": null,
   "metadata": {
    "collapsed": true
   },
   "outputs": [],
   "source": []
  }
 ],
 "metadata": {
  "kernelspec": {
   "display_name": "Python 3",
   "language": "python",
   "name": "python3"
  },
  "language_info": {
   "codemirror_mode": {
    "name": "ipython",
    "version": 3
   },
   "file_extension": ".py",
   "mimetype": "text/x-python",
   "name": "python",
   "nbconvert_exporter": "python",
   "pygments_lexer": "ipython3",
   "version": "3.6.2"
  }
 },
 "nbformat": 4,
 "nbformat_minor": 2
}
